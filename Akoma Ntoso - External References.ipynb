{
 "cells": [
  {
   "cell_type": "code",
   "execution_count": 19,
   "metadata": {},
   "outputs": [
    {
     "name": "stdout",
     "output_type": "stream",
     "text": [
      "JSON file generated successfully.\n"
     ]
    }
   ],
   "source": [
    "import re\n",
    "from bs4 import BeautifulSoup\n",
    "import json\n",
    "\n",
    "# Specify the path to your XML file\n",
    "xml_file_path = 'C:\\\\Users\\\\walke\\\\Downloads\\\\19861231_086U0917_VIGENZA_20230817.xml'\n",
    "\n",
    "# Read the XML file\n",
    "with open(xml_file_path, 'r', encoding='utf-8') as xml_file:\n",
    "    xml_content = xml_file.read()\n",
    "\n",
    "# Parse the XML content using Beautiful Soup\n",
    "soup = BeautifulSoup(xml_content, 'xml')\n",
    "\n",
    "# Initialize variables to store nodes and links data\n",
    "nodes = []\n",
    "links = []\n",
    "unique_dates = set()\n",
    "\n",
    "# Find all <article> elements\n",
    "article_elements = soup.find_all('article')\n",
    "\n",
    "# Loop through all <article> elements\n",
    "for article in article_elements:\n",
    "    num_element = article.find('num')\n",
    "    if num_element:\n",
    "        current_article = num_element.get_text().strip()\n",
    "\n",
    "        # Remove trailing dot from the id\n",
    "        current_article = re.sub(r'\\.$', '', current_article)\n",
    "\n",
    "        nodes.append({\"data\": {\"id\": current_article, \"group\": 1}})\n",
    "\n",
    "    ref_paragraphs = article.find_all('paragraph')\n",
    "    if ref_paragraphs:\n",
    "        for ref_tag in ref_paragraphs:\n",
    "            num_element = ref_tag.find('num')\n",
    "            if num_element:\n",
    "                ref_text = num_element.get_text().strip()\n",
    "\n",
    "                # Check for matching reference tags\n",
    "                matching_ref_tags = ref_tag.find_all('ref')\n",
    "                for matching_ref in matching_ref_tags:\n",
    "                    matching_ref_text = matching_ref.get_text().strip()\n",
    "\n",
    "                    # Extract the reference ID (e.g., \"n.544\") using a regular expression if it matches the format\n",
    "                    reference_id = re.search(r'n\\.\\d+', matching_ref_text)\n",
    "                    reference_id = reference_id.group() if reference_id else matching_ref_text  # Use matching_ref_text if the format doesn't match\n",
    "                    reference_id = reference_id.replace(\",\", \"\")  # Remove any commas\n",
    "\n",
    "                    year_match = re.search(r'\\d{4}', matching_ref_text)\n",
    "                    year = int(year_match.group()) if year_match else 0\n",
    "\n",
    "                    # Remove \"articolo\" or \"articoli\" and their numbers from the reference\n",
    "                    law_reference = re.sub(r'articolo?\\s*\\d+\\s*', '', reference_id)\n",
    "                    law_reference = re.sub(r'articoli?\\s*\\d+\\s*', '', law_reference)\n",
    "\n",
    "                    if any(keyword in law_reference for keyword in ['gennaio', 'febbraio', 'marzo', 'aprile', 'maggio', 'giugno', 'luglio', 'agosto', 'settembre', 'ottobre', 'novembre', 'dicembre']):\n",
    "                        date_match = re.search(r'\\b(?:\\d{1,2}\\s+(?:gennaio|febbraio|marzo|aprile|maggio|giugno|luglio|agosto|settembre|ottobre|novembre|dicembre)\\s+\\d{4})\\b', matching_ref_text)\n",
    "                        if date_match:\n",
    "                            date_info = date_match.group(0)\n",
    "\n",
    "                            # Check if date_info is not in the set before adding to nodes and links\n",
    "                            if date_info not in unique_dates:\n",
    "                                unique_dates.add(date_info)\n",
    "                                nodes.append({\"data\": {\"id\": date_info, \"group\": year, \"influence\": 1}})\n",
    "                            links.append({\"data\": {\"source\": current_article, \"target\": date_info, \"thick\": 1}})\n",
    "\n",
    "# Prepare the final JSON structure\n",
    "cytoscape_data = {\n",
    "    \"elements\": {\n",
    "        \"nodes\": nodes,\n",
    "        \"edges\": links\n",
    "    }\n",
    "}\n",
    "\n",
    "# Save nodes and links to a single JSON file\n",
    "with open('C:\\\\xampp\\\\htdocs\\\\graphie-main\\\\graphie-main\\\\akomantoso.json', 'w') as graph_file:\n",
    "    json.dump(cytoscape_data, graph_file, indent=2)\n",
    "\n",
    "print(\"JSON file generated successfully.\")\n"
   ]
  },
  {
   "cell_type": "code",
   "execution_count": 21,
   "metadata": {},
   "outputs": [
    {
     "name": "stdout",
     "output_type": "stream",
     "text": [
      "Updated JSON file with incoming metadata.\n"
     ]
    }
   ],
   "source": [
    "import json\n",
    "\n",
    "# Load the generated JSON file\n",
    "json_file_path = 'C:\\\\xampp\\\\htdocs\\\\graphie-main\\\\graphie-main\\\\akomantoso.json'\n",
    "with open(json_file_path, 'r') as json_file:\n",
    "    cytoscape_data = json.load(json_file)\n",
    "\n",
    "# Retrieve nodes and links data\n",
    "nodes = cytoscape_data[\"elements\"][\"nodes\"]\n",
    "links = cytoscape_data[\"elements\"][\"edges\"]\n",
    "\n",
    "# Initialize a dictionary to store the count of incoming references for each node\n",
    "incoming_references_count = {node[\"data\"][\"id\"]: 0 for node in nodes}\n",
    "\n",
    "# Count incoming references\n",
    "for link in links:\n",
    "    target_node_id = link[\"data\"][\"target\"]\n",
    "    incoming_references_count[target_node_id] += 1\n",
    "\n",
    "# Update the nodes with the incoming_references metadata\n",
    "for node in nodes:\n",
    "    node_id = node[\"data\"][\"id\"]\n",
    "    node[\"data\"][\"incoming\"] = incoming_references_count[node_id]\n",
    "\n",
    "# Save the updated nodes and links to the same JSON file\n",
    "with open(json_file_path, 'w') as updated_json_file:\n",
    "    json.dump(cytoscape_data, updated_json_file, indent=2)\n",
    "\n",
    "print(\"Updated JSON file with incoming metadata.\")\n"
   ]
  },
  {
   "cell_type": "code",
   "execution_count": null,
   "metadata": {},
   "outputs": [],
   "source": []
  }
 ],
 "metadata": {
  "kernelspec": {
   "display_name": "Python 3",
   "language": "python",
   "name": "python3"
  },
  "language_info": {
   "codemirror_mode": {
    "name": "ipython",
    "version": 3
   },
   "file_extension": ".py",
   "mimetype": "text/x-python",
   "name": "python",
   "nbconvert_exporter": "python",
   "pygments_lexer": "ipython3",
   "version": "3.8.3"
  }
 },
 "nbformat": 4,
 "nbformat_minor": 4
}
